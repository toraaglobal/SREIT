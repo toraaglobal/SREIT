{
  "nbformat": 4,
  "nbformat_minor": 0,
  "metadata": {
    "colab": {
      "name": "04_explore_and_modeling_prophet.ipynb",
      "version": "0.3.2",
      "provenance": [],
      "include_colab_link": true
    },
    "kernelspec": {
      "name": "python3",
      "display_name": "Python 3"
    }
  },
  "cells": [
    {
      "cell_type": "markdown",
      "metadata": {
        "id": "view-in-github",
        "colab_type": "text"
      },
      "source": [
        "<a href=\"https://colab.research.google.com/github/toraaglobal/SREIT/blob/master/04_explore_and_modeling_prophet.ipynb\" target=\"_parent\"><img src=\"https://colab.research.google.com/assets/colab-badge.svg\" alt=\"Open In Colab\"/></a>"
      ]
    },
    {
      "cell_type": "code",
      "metadata": {
        "id": "P_aATCFcLYvS",
        "colab_type": "code",
        "colab": {}
      },
      "source": [
        "\n",
        "## Import packages\n",
        "from fbprophet import Prophet\n",
        "import pandas as pd\n",
        "import numpy as np\n",
        "import seaborn as sns\n",
        "import matplotlib.pyplot as plt\n",
        "import sqlite3\n",
        "import pickle\n",
        "import datetime as dt\n",
        "from sklearn.metrics import mean_squared_error\n",
        "\n",
        "\n",
        "%matplotlib inline"
      ],
      "execution_count": 0,
      "outputs": []
    },
    {
      "cell_type": "code",
      "metadata": {
        "id": "RXXoE-bcMePR",
        "colab_type": "code",
        "colab": {
          "base_uri": "https://localhost:8080/",
          "height": 35
        },
        "outputId": "e4a9bc7c-a0f9-4872-f521-0a5e2a5ddc75"
      },
      "source": [
        "## OBTAIN\n",
        "\n",
        "\n",
        "#Mount the gdrive\n",
        "import os\n",
        "from google.colab import drive\n",
        "drive.mount('/content/drive')\n",
        "\n",
        "\n",
        "#change directry to the gdrive\n",
        "\n",
        "os.chdir('./drive/My Drive/Colab Notebooks/code')"
      ],
      "execution_count": 2,
      "outputs": [
        {
          "output_type": "stream",
          "text": [
            "Drive already mounted at /content/drive; to attempt to forcibly remount, call drive.mount(\"/content/drive\", force_remount=True).\n"
          ],
          "name": "stdout"
        }
      ]
    },
    {
      "cell_type": "code",
      "metadata": {
        "id": "-iVH8X6jNEX5",
        "colab_type": "code",
        "colab": {
          "base_uri": "https://localhost:8080/",
          "height": 586
        },
        "outputId": "5541d56d-38ba-457c-9f62-a95c0ebc6e68"
      },
      "source": [
        "def read_csv(path):\n",
        "  '''read data from path and return train and test set for prophet'''\n",
        "  df = pd.read_csv(path)\n",
        "  df = df.rename(index=str, columns={'RegionName': \"Zipcode\"})\n",
        "  df['Date'] = pd.to_datetime(df['Date'])\n",
        "  ## Data type convertion\n",
        "  df['Zipcode'] = df['Zipcode'].astype(str)\n",
        "  df['RegionID'] = df['RegionID'].astype(str)\n",
        "  \n",
        "  ## Training set : 1997 - 2017\n",
        "  df_train = df[(df.Date.dt.year > 1996) & (df.Date.dt.year <= 2017) ]\n",
        "  df_test = df[df.Date.dt.year == 2018]\n",
        "  \n",
        "  \n",
        "  ## rename column for prophet model\n",
        "  df_train = df_train.rename(index=str, columns={'Date':'ds', 'Values':'y'})\n",
        "  df_test = df_test.rename(index=str, columns={'Date':'ds', 'Values':'y'})\n",
        "  return df_train, df_test\n",
        "\n",
        "\n",
        "\n",
        "train, test = read_csv('single_family_prep.csv')\n",
        "\n",
        "print(train.info())\n",
        "print(test.info())\n",
        "  \n",
        "  \n",
        "  \n",
        "  \n",
        "  "
      ],
      "execution_count": 3,
      "outputs": [
        {
          "output_type": "stream",
          "text": [
            "<class 'pandas.core.frame.DataFrame'>\n",
            "Index: 3901212 entries, 139329 to 4040540\n",
            "Data columns (total 10 columns):\n",
            "Unnamed: 0    int64\n",
            "RegionID      object\n",
            "Zipcode       object\n",
            "City          object\n",
            "State         object\n",
            "Metro         object\n",
            "CountyName    object\n",
            "SizeRank      int64\n",
            "ds            datetime64[ns]\n",
            "y             float64\n",
            "dtypes: datetime64[ns](1), float64(1), int64(2), object(6)\n",
            "memory usage: 327.4+ MB\n",
            "None\n",
            "<class 'pandas.core.frame.DataFrame'>\n",
            "Index: 185772 entries, 4040541 to 4226312\n",
            "Data columns (total 10 columns):\n",
            "Unnamed: 0    185772 non-null int64\n",
            "RegionID      185772 non-null object\n",
            "Zipcode       185772 non-null object\n",
            "City          185772 non-null object\n",
            "State         185772 non-null object\n",
            "Metro         169488 non-null object\n",
            "CountyName    185772 non-null object\n",
            "SizeRank      185772 non-null int64\n",
            "ds            185772 non-null datetime64[ns]\n",
            "y             185772 non-null float64\n",
            "dtypes: datetime64[ns](1), float64(1), int64(2), object(6)\n",
            "memory usage: 15.6+ MB\n",
            "None\n"
          ],
          "name": "stdout"
        }
      ]
    },
    {
      "cell_type": "code",
      "metadata": {
        "id": "Mk6jRlTiRCAc",
        "colab_type": "code",
        "colab": {
          "base_uri": "https://localhost:8080/",
          "height": 194
        },
        "outputId": "2db70fd3-5136-41a4-80a3-7f9ed149d75a"
      },
      "source": [
        "## print train data\n",
        "train.head()"
      ],
      "execution_count": 4,
      "outputs": [
        {
          "output_type": "execute_result",
          "data": {
            "text/html": [
              "<div>\n",
              "<style scoped>\n",
              "    .dataframe tbody tr th:only-of-type {\n",
              "        vertical-align: middle;\n",
              "    }\n",
              "\n",
              "    .dataframe tbody tr th {\n",
              "        vertical-align: top;\n",
              "    }\n",
              "\n",
              "    .dataframe thead th {\n",
              "        text-align: right;\n",
              "    }\n",
              "</style>\n",
              "<table border=\"1\" class=\"dataframe\">\n",
              "  <thead>\n",
              "    <tr style=\"text-align: right;\">\n",
              "      <th></th>\n",
              "      <th>Unnamed: 0</th>\n",
              "      <th>RegionID</th>\n",
              "      <th>Zipcode</th>\n",
              "      <th>City</th>\n",
              "      <th>State</th>\n",
              "      <th>Metro</th>\n",
              "      <th>CountyName</th>\n",
              "      <th>SizeRank</th>\n",
              "      <th>ds</th>\n",
              "      <th>y</th>\n",
              "    </tr>\n",
              "  </thead>\n",
              "  <tbody>\n",
              "    <tr>\n",
              "      <th>139329</th>\n",
              "      <td>139329</td>\n",
              "      <td>60657</td>\n",
              "      <td>60657</td>\n",
              "      <td>Chicago</td>\n",
              "      <td>IL</td>\n",
              "      <td>Chicago-Naperville-Elgin</td>\n",
              "      <td>Cook County</td>\n",
              "      <td>1</td>\n",
              "      <td>1997-01-01</td>\n",
              "      <td>344900.0</td>\n",
              "    </tr>\n",
              "    <tr>\n",
              "      <th>139330</th>\n",
              "      <td>139330</td>\n",
              "      <td>77494</td>\n",
              "      <td>77494</td>\n",
              "      <td>Katy</td>\n",
              "      <td>TX</td>\n",
              "      <td>Houston-The Woodlands-Sugar Land</td>\n",
              "      <td>Harris County</td>\n",
              "      <td>2</td>\n",
              "      <td>1997-01-01</td>\n",
              "      <td>197300.0</td>\n",
              "    </tr>\n",
              "    <tr>\n",
              "      <th>139331</th>\n",
              "      <td>139331</td>\n",
              "      <td>60614</td>\n",
              "      <td>60614</td>\n",
              "      <td>Chicago</td>\n",
              "      <td>IL</td>\n",
              "      <td>Chicago-Naperville-Elgin</td>\n",
              "      <td>Cook County</td>\n",
              "      <td>3</td>\n",
              "      <td>1997-01-01</td>\n",
              "      <td>503200.0</td>\n",
              "    </tr>\n",
              "    <tr>\n",
              "      <th>139332</th>\n",
              "      <td>139332</td>\n",
              "      <td>77449</td>\n",
              "      <td>77449</td>\n",
              "      <td>Katy</td>\n",
              "      <td>TX</td>\n",
              "      <td>Houston-The Woodlands-Sugar Land</td>\n",
              "      <td>Harris County</td>\n",
              "      <td>4</td>\n",
              "      <td>1997-01-01</td>\n",
              "      <td>96600.0</td>\n",
              "    </tr>\n",
              "    <tr>\n",
              "      <th>139333</th>\n",
              "      <td>139333</td>\n",
              "      <td>79936</td>\n",
              "      <td>79936</td>\n",
              "      <td>El Paso</td>\n",
              "      <td>TX</td>\n",
              "      <td>El Paso</td>\n",
              "      <td>El Paso County</td>\n",
              "      <td>5</td>\n",
              "      <td>1997-01-01</td>\n",
              "      <td>77800.0</td>\n",
              "    </tr>\n",
              "  </tbody>\n",
              "</table>\n",
              "</div>"
            ],
            "text/plain": [
              "        Unnamed: 0 RegionID Zipcode     City State  \\\n",
              "139329      139329    60657   60657  Chicago    IL   \n",
              "139330      139330    77494   77494     Katy    TX   \n",
              "139331      139331    60614   60614  Chicago    IL   \n",
              "139332      139332    77449   77449     Katy    TX   \n",
              "139333      139333    79936   79936  El Paso    TX   \n",
              "\n",
              "                                   Metro      CountyName  SizeRank         ds  \\\n",
              "139329          Chicago-Naperville-Elgin     Cook County         1 1997-01-01   \n",
              "139330  Houston-The Woodlands-Sugar Land   Harris County         2 1997-01-01   \n",
              "139331          Chicago-Naperville-Elgin     Cook County         3 1997-01-01   \n",
              "139332  Houston-The Woodlands-Sugar Land   Harris County         4 1997-01-01   \n",
              "139333                           El Paso  El Paso County         5 1997-01-01   \n",
              "\n",
              "               y  \n",
              "139329  344900.0  \n",
              "139330  197300.0  \n",
              "139331  503200.0  \n",
              "139332   96600.0  \n",
              "139333   77800.0  "
            ]
          },
          "metadata": {
            "tags": []
          },
          "execution_count": 4
        }
      ]
    },
    {
      "cell_type": "code",
      "metadata": {
        "id": "PeEAletdR-YJ",
        "colab_type": "code",
        "colab": {
          "base_uri": "https://localhost:8080/",
          "height": 477
        },
        "outputId": "96bf9979-6337-49ef-887f-1588031dd6ba"
      },
      "source": [
        "## Relationship between the sizerank and mean housing values\n",
        "\n",
        "plt.hist(train.y)"
      ],
      "execution_count": 5,
      "outputs": [
        {
          "output_type": "stream",
          "text": [
            "/usr/local/lib/python3.6/dist-packages/numpy/lib/histograms.py:824: RuntimeWarning: invalid value encountered in greater_equal\n",
            "  keep = (tmp_a >= first_edge)\n",
            "/usr/local/lib/python3.6/dist-packages/numpy/lib/histograms.py:825: RuntimeWarning: invalid value encountered in less_equal\n",
            "  keep &= (tmp_a <= last_edge)\n"
          ],
          "name": "stderr"
        },
        {
          "output_type": "execute_result",
          "data": {
            "text/plain": [
              "(array([3.724302e+06, 6.173000e+03, 4.600000e+02, 1.790000e+02,\n",
              "        1.020000e+02, 1.020000e+02, 5.100000e+01, 1.100000e+01,\n",
              "        6.000000e+00, 3.000000e+01]),\n",
              " array([1.230000e+04, 1.944880e+06, 3.877460e+06, 5.810040e+06,\n",
              "        7.742620e+06, 9.675200e+06, 1.160778e+07, 1.354036e+07,\n",
              "        1.547294e+07, 1.740552e+07, 1.933810e+07]),\n",
              " <a list of 10 Patch objects>)"
            ]
          },
          "metadata": {
            "tags": []
          },
          "execution_count": 5
        },
        {
          "output_type": "display_data",
          "data": {
            "image/png": "[encoded data removed]",
            "text/plain": [
              "<Figure size 432x288 with 1 Axes>"
            ]
          },
          "metadata": {
            "tags": []
          }
        }
      ]
    },
    {
      "cell_type": "code",
      "metadata": {
        "id": "GBAet_xsTQLE",
        "colab_type": "code",
        "colab": {
          "base_uri": "https://localhost:8080/",
          "height": 465
        },
        "outputId": "4a9a9038-0038-465f-815f-81590ca1e3ca"
      },
      "source": [
        "## log distribution\n",
        "\n",
        "plt.hist(np.log(train.y))"
      ],
      "execution_count": 6,
      "outputs": [
        {
          "output_type": "stream",
          "text": [
            "/usr/local/lib/python3.6/dist-packages/numpy/lib/histograms.py:824: RuntimeWarning: invalid value encountered in greater_equal\n",
            "  keep = (tmp_a >= first_edge)\n",
            "/usr/local/lib/python3.6/dist-packages/numpy/lib/histograms.py:825: RuntimeWarning: invalid value encountered in less_equal\n",
            "  keep &= (tmp_a <= last_edge)\n"
          ],
          "name": "stderr"
        },
        {
          "output_type": "execute_result",
          "data": {
            "text/plain": [
              "(array([3.781000e+03, 1.250600e+05, 1.100919e+06, 1.568507e+06,\n",
              "        7.036730e+05, 1.958840e+05, 2.791600e+04, 4.975000e+03,\n",
              "        4.760000e+02, 2.250000e+02]),\n",
              " array([ 9.41735454, 10.15337787, 10.88940119, 11.62542452, 12.36144785,\n",
              "        13.09747117, 13.8334945 , 14.56951782, 15.30554115, 16.04156448,\n",
              "        16.7775878 ]),\n",
              " <a list of 10 Patch objects>)"
            ]
          },
          "metadata": {
            "tags": []
          },
          "execution_count": 6
        },
        {
          "output_type": "display_data",
          "data": {
            "image/png": "[encoded data removed]",
            "text/plain": [
              "<Figure size 432x288 with 1 Axes>"
            ]
          },
          "metadata": {
            "tags": []
          }
        }
      ]
    },
    {
      "cell_type": "code",
      "metadata": {
        "id": "ciWHWgw7TpAf",
        "colab_type": "code",
        "colab": {
          "base_uri": "https://localhost:8080/",
          "height": 194
        },
        "outputId": "0ff45250-7dbc-4444-c9aa-673b226cc337"
      },
      "source": [
        "train['log_values'] = np.log(train['y'].values)\n",
        "\n",
        "train.head()"
      ],
      "execution_count": 7,
      "outputs": [
        {
          "output_type": "execute_result",
          "data": {
            "text/html": [
              "<div>\n",
              "<style scoped>\n",
              "    .dataframe tbody tr th:only-of-type {\n",
              "        vertical-align: middle;\n",
              "    }\n",
              "\n",
              "    .dataframe tbody tr th {\n",
              "        vertical-align: top;\n",
              "    }\n",
              "\n",
              "    .dataframe thead th {\n",
              "        text-align: right;\n",
              "    }\n",
              "</style>\n",
              "<table border=\"1\" class=\"dataframe\">\n",
              "  <thead>\n",
              "    <tr style=\"text-align: right;\">\n",
              "      <th></th>\n",
              "      <th>Unnamed: 0</th>\n",
              "      <th>RegionID</th>\n",
              "      <th>Zipcode</th>\n",
              "      <th>City</th>\n",
              "      <th>State</th>\n",
              "      <th>Metro</th>\n",
              "      <th>CountyName</th>\n",
              "      <th>SizeRank</th>\n",
              "      <th>ds</th>\n",
              "      <th>y</th>\n",
              "      <th>log_values</th>\n",
              "    </tr>\n",
              "  </thead>\n",
              "  <tbody>\n",
              "    <tr>\n",
              "      <th>139329</th>\n",
              "      <td>139329</td>\n",
              "      <td>60657</td>\n",
              "      <td>60657</td>\n",
              "      <td>Chicago</td>\n",
              "      <td>IL</td>\n",
              "      <td>Chicago-Naperville-Elgin</td>\n",
              "      <td>Cook County</td>\n",
              "      <td>1</td>\n",
              "      <td>1997-01-01</td>\n",
              "      <td>344900.0</td>\n",
              "      <td>12.751010</td>\n",
              "    </tr>\n",
              "    <tr>\n",
              "      <th>139330</th>\n",
              "      <td>139330</td>\n",
              "      <td>77494</td>\n",
              "      <td>77494</td>\n",
              "      <td>Katy</td>\n",
              "      <td>TX</td>\n",
              "      <td>Houston-The Woodlands-Sugar Land</td>\n",
              "      <td>Harris County</td>\n",
              "      <td>2</td>\n",
              "      <td>1997-01-01</td>\n",
              "      <td>197300.0</td>\n",
              "      <td>12.192481</td>\n",
              "    </tr>\n",
              "    <tr>\n",
              "      <th>139331</th>\n",
              "      <td>139331</td>\n",
              "      <td>60614</td>\n",
              "      <td>60614</td>\n",
              "      <td>Chicago</td>\n",
              "      <td>IL</td>\n",
              "      <td>Chicago-Naperville-Elgin</td>\n",
              "      <td>Cook County</td>\n",
              "      <td>3</td>\n",
              "      <td>1997-01-01</td>\n",
              "      <td>503200.0</td>\n",
              "      <td>13.128743</td>\n",
              "    </tr>\n",
              "    <tr>\n",
              "      <th>139332</th>\n",
              "      <td>139332</td>\n",
              "      <td>77449</td>\n",
              "      <td>77449</td>\n",
              "      <td>Katy</td>\n",
              "      <td>TX</td>\n",
              "      <td>Houston-The Woodlands-Sugar Land</td>\n",
              "      <td>Harris County</td>\n",
              "      <td>4</td>\n",
              "      <td>1997-01-01</td>\n",
              "      <td>96600.0</td>\n",
              "      <td>11.478334</td>\n",
              "    </tr>\n",
              "    <tr>\n",
              "      <th>139333</th>\n",
              "      <td>139333</td>\n",
              "      <td>79936</td>\n",
              "      <td>79936</td>\n",
              "      <td>El Paso</td>\n",
              "      <td>TX</td>\n",
              "      <td>El Paso</td>\n",
              "      <td>El Paso County</td>\n",
              "      <td>5</td>\n",
              "      <td>1997-01-01</td>\n",
              "      <td>77800.0</td>\n",
              "      <td>11.261897</td>\n",
              "    </tr>\n",
              "  </tbody>\n",
              "</table>\n",
              "</div>"
            ],
            "text/plain": [
              "        Unnamed: 0 RegionID Zipcode     City State  \\\n",
              "139329      139329    60657   60657  Chicago    IL   \n",
              "139330      139330    77494   77494     Katy    TX   \n",
              "139331      139331    60614   60614  Chicago    IL   \n",
              "139332      139332    77449   77449     Katy    TX   \n",
              "139333      139333    79936   79936  El Paso    TX   \n",
              "\n",
              "                                   Metro      CountyName  SizeRank         ds  \\\n",
              "139329          Chicago-Naperville-Elgin     Cook County         1 1997-01-01   \n",
              "139330  Houston-The Woodlands-Sugar Land   Harris County         2 1997-01-01   \n",
              "139331          Chicago-Naperville-Elgin     Cook County         3 1997-01-01   \n",
              "139332  Houston-The Woodlands-Sugar Land   Harris County         4 1997-01-01   \n",
              "139333                           El Paso  El Paso County         5 1997-01-01   \n",
              "\n",
              "               y  log_values  \n",
              "139329  344900.0   12.751010  \n",
              "139330  197300.0   12.192481  \n",
              "139331  503200.0   13.128743  \n",
              "139332   96600.0   11.478334  \n",
              "139333   77800.0   11.261897  "
            ]
          },
          "metadata": {
            "tags": []
          },
          "execution_count": 7
        }
      ]
    },
    {
      "cell_type": "code",
      "metadata": {
        "id": "Uyd8rbvRURlD",
        "colab_type": "code",
        "colab": {
          "base_uri": "https://localhost:8080/",
          "height": 194
        },
        "outputId": "be0fa805-09ea-40ad-c2af-ef631a3eea0a"
      },
      "source": [
        "test['log_values'] = np.log(test['y'].values)\n",
        "test.head()"
      ],
      "execution_count": 8,
      "outputs": [
        {
          "output_type": "execute_result",
          "data": {
            "text/html": [
              "<div>\n",
              "<style scoped>\n",
              "    .dataframe tbody tr th:only-of-type {\n",
              "        vertical-align: middle;\n",
              "    }\n",
              "\n",
              "    .dataframe tbody tr th {\n",
              "        vertical-align: top;\n",
              "    }\n",
              "\n",
              "    .dataframe thead th {\n",
              "        text-align: right;\n",
              "    }\n",
              "</style>\n",
              "<table border=\"1\" class=\"dataframe\">\n",
              "  <thead>\n",
              "    <tr style=\"text-align: right;\">\n",
              "      <th></th>\n",
              "      <th>Unnamed: 0</th>\n",
              "      <th>RegionID</th>\n",
              "      <th>Zipcode</th>\n",
              "      <th>City</th>\n",
              "      <th>State</th>\n",
              "      <th>Metro</th>\n",
              "      <th>CountyName</th>\n",
              "      <th>SizeRank</th>\n",
              "      <th>ds</th>\n",
              "      <th>y</th>\n",
              "      <th>log_values</th>\n",
              "    </tr>\n",
              "  </thead>\n",
              "  <tbody>\n",
              "    <tr>\n",
              "      <th>4040541</th>\n",
              "      <td>4040541</td>\n",
              "      <td>60657</td>\n",
              "      <td>60657</td>\n",
              "      <td>Chicago</td>\n",
              "      <td>IL</td>\n",
              "      <td>Chicago-Naperville-Elgin</td>\n",
              "      <td>Cook County</td>\n",
              "      <td>1</td>\n",
              "      <td>2018-01-01</td>\n",
              "      <td>1028300.0</td>\n",
              "      <td>13.843418</td>\n",
              "    </tr>\n",
              "    <tr>\n",
              "      <th>4040542</th>\n",
              "      <td>4040542</td>\n",
              "      <td>77494</td>\n",
              "      <td>77494</td>\n",
              "      <td>Katy</td>\n",
              "      <td>TX</td>\n",
              "      <td>Houston-The Woodlands-Sugar Land</td>\n",
              "      <td>Harris County</td>\n",
              "      <td>2</td>\n",
              "      <td>2018-01-01</td>\n",
              "      <td>322600.0</td>\n",
              "      <td>12.684168</td>\n",
              "    </tr>\n",
              "    <tr>\n",
              "      <th>4040543</th>\n",
              "      <td>4040543</td>\n",
              "      <td>60614</td>\n",
              "      <td>60614</td>\n",
              "      <td>Chicago</td>\n",
              "      <td>IL</td>\n",
              "      <td>Chicago-Naperville-Elgin</td>\n",
              "      <td>Cook County</td>\n",
              "      <td>3</td>\n",
              "      <td>2018-01-01</td>\n",
              "      <td>1309300.0</td>\n",
              "      <td>14.085003</td>\n",
              "    </tr>\n",
              "    <tr>\n",
              "      <th>4040544</th>\n",
              "      <td>4040544</td>\n",
              "      <td>77449</td>\n",
              "      <td>77449</td>\n",
              "      <td>Katy</td>\n",
              "      <td>TX</td>\n",
              "      <td>Houston-The Woodlands-Sugar Land</td>\n",
              "      <td>Harris County</td>\n",
              "      <td>4</td>\n",
              "      <td>2018-01-01</td>\n",
              "      <td>173500.0</td>\n",
              "      <td>12.063933</td>\n",
              "    </tr>\n",
              "    <tr>\n",
              "      <th>4040545</th>\n",
              "      <td>4040545</td>\n",
              "      <td>79936</td>\n",
              "      <td>79936</td>\n",
              "      <td>El Paso</td>\n",
              "      <td>TX</td>\n",
              "      <td>El Paso</td>\n",
              "      <td>El Paso County</td>\n",
              "      <td>5</td>\n",
              "      <td>2018-01-01</td>\n",
              "      <td>120200.0</td>\n",
              "      <td>11.696912</td>\n",
              "    </tr>\n",
              "  </tbody>\n",
              "</table>\n",
              "</div>"
            ],
            "text/plain": [
              "         Unnamed: 0 RegionID Zipcode     City State  \\\n",
              "4040541     4040541    60657   60657  Chicago    IL   \n",
              "4040542     4040542    77494   77494     Katy    TX   \n",
              "4040543     4040543    60614   60614  Chicago    IL   \n",
              "4040544     4040544    77449   77449     Katy    TX   \n",
              "4040545     4040545    79936   79936  El Paso    TX   \n",
              "\n",
              "                                    Metro      CountyName  SizeRank  \\\n",
              "4040541          Chicago-Naperville-Elgin     Cook County         1   \n",
              "4040542  Houston-The Woodlands-Sugar Land   Harris County         2   \n",
              "4040543          Chicago-Naperville-Elgin     Cook County         3   \n",
              "4040544  Houston-The Woodlands-Sugar Land   Harris County         4   \n",
              "4040545                           El Paso  El Paso County         5   \n",
              "\n",
              "                ds          y  log_values  \n",
              "4040541 2018-01-01  1028300.0   13.843418  \n",
              "4040542 2018-01-01   322600.0   12.684168  \n",
              "4040543 2018-01-01  1309300.0   14.085003  \n",
              "4040544 2018-01-01   173500.0   12.063933  \n",
              "4040545 2018-01-01   120200.0   11.696912  "
            ]
          },
          "metadata": {
            "tags": []
          },
          "execution_count": 8
        }
      ]
    },
    {
      "cell_type": "code",
      "metadata": {
        "id": "VE1hsj-AUflC",
        "colab_type": "code",
        "colab": {
          "base_uri": "https://localhost:8080/",
          "height": 194
        },
        "outputId": "16e5ed38-538c-4147-de66-bd33b86285a9"
      },
      "source": [
        "## rename columns for prophet\n",
        "train = train.rename(index=str, columns={'y': 'Values', 'log_values': 'y'})\n",
        "test = test.rename(index=str, columns={'y': 'Values', 'log_values': 'y'})\n",
        "train.head()\n"
      ],
      "execution_count": 9,
      "outputs": [
        {
          "output_type": "execute_result",
          "data": {
            "text/html": [
              "<div>\n",
              "<style scoped>\n",
              "    .dataframe tbody tr th:only-of-type {\n",
              "        vertical-align: middle;\n",
              "    }\n",
              "\n",
              "    .dataframe tbody tr th {\n",
              "        vertical-align: top;\n",
              "    }\n",
              "\n",
              "    .dataframe thead th {\n",
              "        text-align: right;\n",
              "    }\n",
              "</style>\n",
              "<table border=\"1\" class=\"dataframe\">\n",
              "  <thead>\n",
              "    <tr style=\"text-align: right;\">\n",
              "      <th></th>\n",
              "      <th>Unnamed: 0</th>\n",
              "      <th>RegionID</th>\n",
              "      <th>Zipcode</th>\n",
              "      <th>City</th>\n",
              "      <th>State</th>\n",
              "      <th>Metro</th>\n",
              "      <th>CountyName</th>\n",
              "      <th>SizeRank</th>\n",
              "      <th>ds</th>\n",
              "      <th>Values</th>\n",
              "      <th>y</th>\n",
              "    </tr>\n",
              "  </thead>\n",
              "  <tbody>\n",
              "    <tr>\n",
              "      <th>139329</th>\n",
              "      <td>139329</td>\n",
              "      <td>60657</td>\n",
              "      <td>60657</td>\n",
              "      <td>Chicago</td>\n",
              "      <td>IL</td>\n",
              "      <td>Chicago-Naperville-Elgin</td>\n",
              "      <td>Cook County</td>\n",
              "      <td>1</td>\n",
              "      <td>1997-01-01</td>\n",
              "      <td>344900.0</td>\n",
              "      <td>12.751010</td>\n",
              "    </tr>\n",
              "    <tr>\n",
              "      <th>139330</th>\n",
              "      <td>139330</td>\n",
              "      <td>77494</td>\n",
              "      <td>77494</td>\n",
              "      <td>Katy</td>\n",
              "      <td>TX</td>\n",
              "      <td>Houston-The Woodlands-Sugar Land</td>\n",
              "      <td>Harris County</td>\n",
              "      <td>2</td>\n",
              "      <td>1997-01-01</td>\n",
              "      <td>197300.0</td>\n",
              "      <td>12.192481</td>\n",
              "    </tr>\n",
              "    <tr>\n",
              "      <th>139331</th>\n",
              "      <td>139331</td>\n",
              "      <td>60614</td>\n",
              "      <td>60614</td>\n",
              "      <td>Chicago</td>\n",
              "      <td>IL</td>\n",
              "      <td>Chicago-Naperville-Elgin</td>\n",
              "      <td>Cook County</td>\n",
              "      <td>3</td>\n",
              "      <td>1997-01-01</td>\n",
              "      <td>503200.0</td>\n",
              "      <td>13.128743</td>\n",
              "    </tr>\n",
              "    <tr>\n",
              "      <th>139332</th>\n",
              "      <td>139332</td>\n",
              "      <td>77449</td>\n",
              "      <td>77449</td>\n",
              "      <td>Katy</td>\n",
              "      <td>TX</td>\n",
              "      <td>Houston-The Woodlands-Sugar Land</td>\n",
              "      <td>Harris County</td>\n",
              "      <td>4</td>\n",
              "      <td>1997-01-01</td>\n",
              "      <td>96600.0</td>\n",
              "      <td>11.478334</td>\n",
              "    </tr>\n",
              "    <tr>\n",
              "      <th>139333</th>\n",
              "      <td>139333</td>\n",
              "      <td>79936</td>\n",
              "      <td>79936</td>\n",
              "      <td>El Paso</td>\n",
              "      <td>TX</td>\n",
              "      <td>El Paso</td>\n",
              "      <td>El Paso County</td>\n",
              "      <td>5</td>\n",
              "      <td>1997-01-01</td>\n",
              "      <td>77800.0</td>\n",
              "      <td>11.261897</td>\n",
              "    </tr>\n",
              "  </tbody>\n",
              "</table>\n",
              "</div>"
            ],
            "text/plain": [
              "        Unnamed: 0 RegionID Zipcode     City State  \\\n",
              "139329      139329    60657   60657  Chicago    IL   \n",
              "139330      139330    77494   77494     Katy    TX   \n",
              "139331      139331    60614   60614  Chicago    IL   \n",
              "139332      139332    77449   77449     Katy    TX   \n",
              "139333      139333    79936   79936  El Paso    TX   \n",
              "\n",
              "                                   Metro      CountyName  SizeRank         ds  \\\n",
              "139329          Chicago-Naperville-Elgin     Cook County         1 1997-01-01   \n",
              "139330  Houston-The Woodlands-Sugar Land   Harris County         2 1997-01-01   \n",
              "139331          Chicago-Naperville-Elgin     Cook County         3 1997-01-01   \n",
              "139332  Houston-The Woodlands-Sugar Land   Harris County         4 1997-01-01   \n",
              "139333                           El Paso  El Paso County         5 1997-01-01   \n",
              "\n",
              "          Values          y  \n",
              "139329  344900.0  12.751010  \n",
              "139330  197300.0  12.192481  \n",
              "139331  503200.0  13.128743  \n",
              "139332   96600.0  11.478334  \n",
              "139333   77800.0  11.261897  "
            ]
          },
          "metadata": {
            "tags": []
          },
          "execution_count": 9
        }
      ]
    },
    {
      "cell_type": "code",
      "metadata": {
        "id": "OWeQRBKcpLvy",
        "colab_type": "code",
        "colab": {
          "base_uri": "https://localhost:8080/",
          "height": 194
        },
        "outputId": "793c38af-5f1c-47a0-dc55-dc5f7294f28a"
      },
      "source": [
        "test.head()"
      ],
      "execution_count": 10,
      "outputs": [
        {
          "output_type": "execute_result",
          "data": {
            "text/html": [
              "<div>\n",
              "<style scoped>\n",
              "    .dataframe tbody tr th:only-of-type {\n",
              "        vertical-align: middle;\n",
              "    }\n",
              "\n",
              "    .dataframe tbody tr th {\n",
              "        vertical-align: top;\n",
              "    }\n",
              "\n",
              "    .dataframe thead th {\n",
              "        text-align: right;\n",
              "    }\n",
              "</style>\n",
              "<table border=\"1\" class=\"dataframe\">\n",
              "  <thead>\n",
              "    <tr style=\"text-align: right;\">\n",
              "      <th></th>\n",
              "      <th>Unnamed: 0</th>\n",
              "      <th>RegionID</th>\n",
              "      <th>Zipcode</th>\n",
              "      <th>City</th>\n",
              "      <th>State</th>\n",
              "      <th>Metro</th>\n",
              "      <th>CountyName</th>\n",
              "      <th>SizeRank</th>\n",
              "      <th>ds</th>\n",
              "      <th>Values</th>\n",
              "      <th>y</th>\n",
              "    </tr>\n",
              "  </thead>\n",
              "  <tbody>\n",
              "    <tr>\n",
              "      <th>4040541</th>\n",
              "      <td>4040541</td>\n",
              "      <td>60657</td>\n",
              "      <td>60657</td>\n",
              "      <td>Chicago</td>\n",
              "      <td>IL</td>\n",
              "      <td>Chicago-Naperville-Elgin</td>\n",
              "      <td>Cook County</td>\n",
              "      <td>1</td>\n",
              "      <td>2018-01-01</td>\n",
              "      <td>1028300.0</td>\n",
              "      <td>13.843418</td>\n",
              "    </tr>\n",
              "    <tr>\n",
              "      <th>4040542</th>\n",
              "      <td>4040542</td>\n",
              "      <td>77494</td>\n",
              "      <td>77494</td>\n",
              "      <td>Katy</td>\n",
              "      <td>TX</td>\n",
              "      <td>Houston-The Woodlands-Sugar Land</td>\n",
              "      <td>Harris County</td>\n",
              "      <td>2</td>\n",
              "      <td>2018-01-01</td>\n",
              "      <td>322600.0</td>\n",
              "      <td>12.684168</td>\n",
              "    </tr>\n",
              "    <tr>\n",
              "      <th>4040543</th>\n",
              "      <td>4040543</td>\n",
              "      <td>60614</td>\n",
              "      <td>60614</td>\n",
              "      <td>Chicago</td>\n",
              "      <td>IL</td>\n",
              "      <td>Chicago-Naperville-Elgin</td>\n",
              "      <td>Cook County</td>\n",
              "      <td>3</td>\n",
              "      <td>2018-01-01</td>\n",
              "      <td>1309300.0</td>\n",
              "      <td>14.085003</td>\n",
              "    </tr>\n",
              "    <tr>\n",
              "      <th>4040544</th>\n",
              "      <td>4040544</td>\n",
              "      <td>77449</td>\n",
              "      <td>77449</td>\n",
              "      <td>Katy</td>\n",
              "      <td>TX</td>\n",
              "      <td>Houston-The Woodlands-Sugar Land</td>\n",
              "      <td>Harris County</td>\n",
              "      <td>4</td>\n",
              "      <td>2018-01-01</td>\n",
              "      <td>173500.0</td>\n",
              "      <td>12.063933</td>\n",
              "    </tr>\n",
              "    <tr>\n",
              "      <th>4040545</th>\n",
              "      <td>4040545</td>\n",
              "      <td>79936</td>\n",
              "      <td>79936</td>\n",
              "      <td>El Paso</td>\n",
              "      <td>TX</td>\n",
              "      <td>El Paso</td>\n",
              "      <td>El Paso County</td>\n",
              "      <td>5</td>\n",
              "      <td>2018-01-01</td>\n",
              "      <td>120200.0</td>\n",
              "      <td>11.696912</td>\n",
              "    </tr>\n",
              "  </tbody>\n",
              "</table>\n",
              "</div>"
            ],
            "text/plain": [
              "         Unnamed: 0 RegionID Zipcode     City State  \\\n",
              "4040541     4040541    60657   60657  Chicago    IL   \n",
              "4040542     4040542    77494   77494     Katy    TX   \n",
              "4040543     4040543    60614   60614  Chicago    IL   \n",
              "4040544     4040544    77449   77449     Katy    TX   \n",
              "4040545     4040545    79936   79936  El Paso    TX   \n",
              "\n",
              "                                    Metro      CountyName  SizeRank  \\\n",
              "4040541          Chicago-Naperville-Elgin     Cook County         1   \n",
              "4040542  Houston-The Woodlands-Sugar Land   Harris County         2   \n",
              "4040543          Chicago-Naperville-Elgin     Cook County         3   \n",
              "4040544  Houston-The Woodlands-Sugar Land   Harris County         4   \n",
              "4040545                           El Paso  El Paso County         5   \n",
              "\n",
              "                ds     Values          y  \n",
              "4040541 2018-01-01  1028300.0  13.843418  \n",
              "4040542 2018-01-01   322600.0  12.684168  \n",
              "4040543 2018-01-01  1309300.0  14.085003  \n",
              "4040544 2018-01-01   173500.0  12.063933  \n",
              "4040545 2018-01-01   120200.0  11.696912  "
            ]
          },
          "metadata": {
            "tags": []
          },
          "execution_count": 10
        }
      ]
    },
    {
      "cell_type": "code",
      "metadata": {
        "id": "8HNENburqtmr",
        "colab_type": "code",
        "colab": {}
      },
      "source": [
        "train.to_csv('single_family_train.csv')\n",
        "test.to_csv('single_family_test.csv')"
      ],
      "execution_count": 0,
      "outputs": []
    },
    {
      "cell_type": "code",
      "metadata": {
        "id": "KrSlIDJJp30q",
        "colab_type": "code",
        "colab": {}
      },
      "source": [
        "\n",
        "## create a database connection\n",
        "conn = sqlite3.connect('uszipmodel.sqlite')\n",
        "cur = conn.cursor()\n",
        "\n",
        "cur.execute('''\n",
        "CREATE TABLE IF NOT EXISTS models_log (zip TEXT NOT NULL UNIQUE, model BLOB, mse REAL )''')\n",
        "conn.commit()"
      ],
      "execution_count": 0,
      "outputs": []
    },
    {
      "cell_type": "code",
      "metadata": {
        "id": "OjlS4K7NqJy0",
        "colab_type": "code",
        "colab": {}
      },
      "source": [
        "def run_zip_model(df, zipcode, df_test):\n",
        "  # initialize the model\n",
        "  model = Prophet(interval_width=0.95)\n",
        "  #check if Zipmodel already in database\n",
        "  cur.execute(\"SELECT mse from models_log where zip = ?\",(zipcode,))\n",
        "  try:\n",
        "    data = cur.fetchone()[0]\n",
        "    #print(\"Model found in database\")\n",
        "  except:\n",
        "    model.fit(df)\n",
        "    \n",
        "    #future_dates = df_test['ds']\n",
        "    #print(future_dates.head())\n",
        "    \n",
        "    forecast = model.predict(df_test)\n",
        "    #print(forecast.head())\n",
        "    #actual\n",
        "    y_actual = df_test['y']\n",
        "    y_predict = forecast['yhat']\n",
        "    #score\n",
        "    score =  mean_squared_error(y_actual, y_predict)\n",
        "    print(score)\n",
        "    cur.execute('''INSERT INTO models_log (zip,model,mse)\n",
        "    VALUES (?,?,?)''',(zipcode,pickle.dumps(model),score))\n",
        "    \n",
        "    conn.commit()"
      ],
      "execution_count": 0,
      "outputs": []
    },
    {
      "cell_type": "code",
      "metadata": {
        "id": "Mmkb1ClnrIZI",
        "colab_type": "code",
        "colab": {
          "base_uri": "https://localhost:8080/",
          "height": 35
        },
        "outputId": "0edd6ba2-1fb6-4fb3-d6ba-414fac87136c"
      },
      "source": [
        "## get all zipcode in a list\n",
        "\n",
        "zips = train['Zipcode'].unique()\n",
        "\n",
        "zips = list(zips)\n",
        "\n",
        "len(zips)"
      ],
      "execution_count": 15,
      "outputs": [
        {
          "output_type": "execute_result",
          "data": {
            "text/plain": [
              "15481"
            ]
          },
          "metadata": {
            "tags": []
          },
          "execution_count": 15
        }
      ]
    },
    {
      "cell_type": "code",
      "metadata": {
        "id": "os95jikfrghy",
        "colab_type": "code",
        "colab": {
          "base_uri": "https://localhost:8080/",
          "height": 1348
        },
        "outputId": "522b31a3-ef36-4885-8232-1db48c6658cb"
      },
      "source": [
        "count = 0\n",
        "for zip in zips:\n",
        "  train_df = train[train['Zipcode'] == zip]\n",
        "  test_df = test[test['Zipcode']== zip]\n",
        "  run_zip_model(train_df, zip, test_df)\n",
        "  count+=1\n",
        "  print(\"Counts: {}\".format(count))\n",
        "  conn.commit()"
      ],
      "execution_count": 18,
      "outputs": [
        {
          "output_type": "stream",
          "text": [
            "/usr/local/lib/python3.6/dist-packages/fbprophet/forecaster.py:880: FutureWarning: Series.nonzero() is deprecated and will be removed in a future version.Use Series.to_numpy().nonzero() instead\n",
            "  min_dt = dt.iloc[dt.nonzero()[0]].min()\n",
            "INFO:fbprophet:Disabling weekly seasonality. Run prophet with weekly_seasonality=True to override this.\n",
            "INFO:fbprophet:Disabling daily seasonality. Run prophet with daily_seasonality=True to override this.\n"
          ],
          "name": "stderr"
        },
        {
          "output_type": "stream",
          "text": [
            "0.00014954668993690881\n",
            "Counts: 1\n"
          ],
          "name": "stdout"
        },
        {
          "output_type": "stream",
          "text": [
            "/usr/local/lib/python3.6/dist-packages/fbprophet/forecaster.py:880: FutureWarning: Series.nonzero() is deprecated and will be removed in a future version.Use Series.to_numpy().nonzero() instead\n",
            "  min_dt = dt.iloc[dt.nonzero()[0]].min()\n",
            "INFO:fbprophet:Disabling weekly seasonality. Run prophet with weekly_seasonality=True to override this.\n",
            "INFO:fbprophet:Disabling daily seasonality. Run prophet with daily_seasonality=True to override this.\n"
          ],
          "name": "stderr"
        },
        {
          "output_type": "stream",
          "text": [
            "0.001952285389801347\n",
            "Counts: 2\n"
          ],
          "name": "stdout"
        },
        {
          "output_type": "stream",
          "text": [
            "/usr/local/lib/python3.6/dist-packages/fbprophet/forecaster.py:880: FutureWarning: Series.nonzero() is deprecated and will be removed in a future version.Use Series.to_numpy().nonzero() instead\n",
            "  min_dt = dt.iloc[dt.nonzero()[0]].min()\n",
            "INFO:fbprophet:Disabling weekly seasonality. Run prophet with weekly_seasonality=True to override this.\n",
            "INFO:fbprophet:Disabling daily seasonality. Run prophet with daily_seasonality=True to override this.\n"
          ],
          "name": "stderr"
        },
        {
          "output_type": "stream",
          "text": [
            "0.00015376965056027535\n",
            "Counts: 3\n"
          ],
          "name": "stdout"
        },
        {
          "output_type": "stream",
          "text": [
            "/usr/local/lib/python3.6/dist-packages/fbprophet/forecaster.py:880: FutureWarning: Series.nonzero() is deprecated and will be removed in a future version.Use Series.to_numpy().nonzero() instead\n",
            "  min_dt = dt.iloc[dt.nonzero()[0]].min()\n",
            "INFO:fbprophet:Disabling weekly seasonality. Run prophet with weekly_seasonality=True to override this.\n",
            "INFO:fbprophet:Disabling daily seasonality. Run prophet with daily_seasonality=True to override this.\n"
          ],
          "name": "stderr"
        },
        {
          "output_type": "stream",
          "text": [
            "0.0032686970595985653\n",
            "Counts: 4\n"
          ],
          "name": "stdout"
        },
        {
          "output_type": "stream",
          "text": [
            "/usr/local/lib/python3.6/dist-packages/fbprophet/forecaster.py:880: FutureWarning: Series.nonzero() is deprecated and will be removed in a future version.Use Series.to_numpy().nonzero() instead\n",
            "  min_dt = dt.iloc[dt.nonzero()[0]].min()\n",
            "INFO:fbprophet:Disabling weekly seasonality. Run prophet with weekly_seasonality=True to override this.\n",
            "INFO:fbprophet:Disabling daily seasonality. Run prophet with daily_seasonality=True to override this.\n"
          ],
          "name": "stderr"
        },
        {
          "output_type": "stream",
          "text": [
            "0.0013006132934359727\n",
            "Counts: 5\n"
          ],
          "name": "stdout"
        },
        {
          "output_type": "stream",
          "text": [
            "/usr/local/lib/python3.6/dist-packages/fbprophet/forecaster.py:880: FutureWarning: Series.nonzero() is deprecated and will be removed in a future version.Use Series.to_numpy().nonzero() instead\n",
            "  min_dt = dt.iloc[dt.nonzero()[0]].min()\n",
            "INFO:fbprophet:Disabling weekly seasonality. Run prophet with weekly_seasonality=True to override this.\n",
            "INFO:fbprophet:Disabling daily seasonality. Run prophet with daily_seasonality=True to override this.\n"
          ],
          "name": "stderr"
        },
        {
          "output_type": "stream",
          "text": [
            "0.001799653191717929\n",
            "Counts: 6\n"
          ],
          "name": "stdout"
        },
        {
          "output_type": "stream",
          "text": [
            "/usr/local/lib/python3.6/dist-packages/fbprophet/forecaster.py:880: FutureWarning: Series.nonzero() is deprecated and will be removed in a future version.Use Series.to_numpy().nonzero() instead\n",
            "  min_dt = dt.iloc[dt.nonzero()[0]].min()\n",
            "INFO:fbprophet:Disabling weekly seasonality. Run prophet with weekly_seasonality=True to override this.\n",
            "INFO:fbprophet:Disabling daily seasonality. Run prophet with daily_seasonality=True to override this.\n"
          ],
          "name": "stderr"
        },
        {
          "output_type": "error",
          "ename": "SystemError",
          "evalue": "ignored",
          "traceback": [
            "\u001b[0;31m---------------------------------------------------------------------------\u001b[0m",
            "\u001b[0;31mTypeError\u001b[0m                                 Traceback (most recent call last)",
            "\u001b[0;32m<ipython-input-13-197ce6effa63>\u001b[0m in \u001b[0;36mrun_zip_model\u001b[0;34m(df, zipcode, df_test)\u001b[0m\n\u001b[1;32m      6\u001b[0m   \u001b[0;32mtry\u001b[0m\u001b[0;34m:\u001b[0m\u001b[0;34m\u001b[0m\u001b[0;34m\u001b[0m\u001b[0m\n\u001b[0;32m----> 7\u001b[0;31m     \u001b[0mdata\u001b[0m \u001b[0;34m=\u001b[0m \u001b[0mcur\u001b[0m\u001b[0;34m.\u001b[0m\u001b[0mfetchone\u001b[0m\u001b[0;34m(\u001b[0m\u001b[0;34m)\u001b[0m\u001b[0;34m[\u001b[0m\u001b[0;36m0\u001b[0m\u001b[0;34m]\u001b[0m\u001b[0;34m\u001b[0m\u001b[0;34m\u001b[0m\u001b[0m\n\u001b[0m\u001b[1;32m      8\u001b[0m     \u001b[0;31m#print(\"Model found in database\")\u001b[0m\u001b[0;34m\u001b[0m\u001b[0;34m\u001b[0m\u001b[0;34m\u001b[0m\u001b[0m\n",
            "\u001b[0;31mTypeError\u001b[0m: 'NoneType' object is not subscriptable",
            "\nDuring handling of the above exception, another exception occurred:\n",
            "\u001b[0;31mKeyboardInterrupt\u001b[0m                         Traceback (most recent call last)",
            "\u001b[0;31mKeyboardInterrupt\u001b[0m: ",
            "\nThe above exception was the direct cause of the following exception:\n",
            "\u001b[0;31mSystemError\u001b[0m                               Traceback (most recent call last)",
            "\u001b[0;32m<ipython-input-18-01a22d80c557>\u001b[0m in \u001b[0;36m<module>\u001b[0;34m()\u001b[0m\n\u001b[1;32m      3\u001b[0m   \u001b[0mtrain_df\u001b[0m \u001b[0;34m=\u001b[0m \u001b[0mtrain\u001b[0m\u001b[0;34m[\u001b[0m\u001b[0mtrain\u001b[0m\u001b[0;34m[\u001b[0m\u001b[0;34m'Zipcode'\u001b[0m\u001b[0;34m]\u001b[0m \u001b[0;34m==\u001b[0m \u001b[0mzip\u001b[0m\u001b[0;34m]\u001b[0m\u001b[0;34m\u001b[0m\u001b[0;34m\u001b[0m\u001b[0m\n\u001b[1;32m      4\u001b[0m   \u001b[0mtest_df\u001b[0m \u001b[0;34m=\u001b[0m \u001b[0mtest\u001b[0m\u001b[0;34m[\u001b[0m\u001b[0mtest\u001b[0m\u001b[0;34m[\u001b[0m\u001b[0;34m'Zipcode'\u001b[0m\u001b[0;34m]\u001b[0m\u001b[0;34m==\u001b[0m \u001b[0mzip\u001b[0m\u001b[0;34m]\u001b[0m\u001b[0;34m\u001b[0m\u001b[0;34m\u001b[0m\u001b[0m\n\u001b[0;32m----> 5\u001b[0;31m   \u001b[0mrun_zip_model\u001b[0m\u001b[0;34m(\u001b[0m\u001b[0mtrain_df\u001b[0m\u001b[0;34m,\u001b[0m \u001b[0mzip\u001b[0m\u001b[0;34m,\u001b[0m \u001b[0mtest_df\u001b[0m\u001b[0;34m)\u001b[0m\u001b[0;34m\u001b[0m\u001b[0;34m\u001b[0m\u001b[0m\n\u001b[0m\u001b[1;32m      6\u001b[0m   \u001b[0mcount\u001b[0m\u001b[0;34m+=\u001b[0m\u001b[0;36m1\u001b[0m\u001b[0;34m\u001b[0m\u001b[0;34m\u001b[0m\u001b[0m\n\u001b[1;32m      7\u001b[0m   \u001b[0mprint\u001b[0m\u001b[0;34m(\u001b[0m\u001b[0;34m\"Counts: {}\"\u001b[0m\u001b[0;34m.\u001b[0m\u001b[0mformat\u001b[0m\u001b[0;34m(\u001b[0m\u001b[0mcount\u001b[0m\u001b[0;34m)\u001b[0m\u001b[0;34m)\u001b[0m\u001b[0;34m\u001b[0m\u001b[0;34m\u001b[0m\u001b[0m\n",
            "\u001b[0;32m<ipython-input-13-197ce6effa63>\u001b[0m in \u001b[0;36mrun_zip_model\u001b[0;34m(df, zipcode, df_test)\u001b[0m\n\u001b[1;32m      8\u001b[0m     \u001b[0;31m#print(\"Model found in database\")\u001b[0m\u001b[0;34m\u001b[0m\u001b[0;34m\u001b[0m\u001b[0;34m\u001b[0m\u001b[0m\n\u001b[1;32m      9\u001b[0m   \u001b[0;32mexcept\u001b[0m\u001b[0;34m:\u001b[0m\u001b[0;34m\u001b[0m\u001b[0;34m\u001b[0m\u001b[0m\n\u001b[0;32m---> 10\u001b[0;31m     \u001b[0mmodel\u001b[0m\u001b[0;34m.\u001b[0m\u001b[0mfit\u001b[0m\u001b[0;34m(\u001b[0m\u001b[0mdf\u001b[0m\u001b[0;34m)\u001b[0m\u001b[0;34m\u001b[0m\u001b[0;34m\u001b[0m\u001b[0m\n\u001b[0m\u001b[1;32m     11\u001b[0m \u001b[0;34m\u001b[0m\u001b[0m\n\u001b[1;32m     12\u001b[0m     \u001b[0;31m#future_dates = df_test['ds']\u001b[0m\u001b[0;34m\u001b[0m\u001b[0;34m\u001b[0m\u001b[0;34m\u001b[0m\u001b[0m\n",
            "\u001b[0;32m/usr/local/lib/python3.6/dist-packages/fbprophet/forecaster.py\u001b[0m in \u001b[0;36mfit\u001b[0;34m(self, df, **kwargs)\u001b[0m\n\u001b[1;32m   1095\u001b[0m             \u001b[0margs\u001b[0m\u001b[0;34m.\u001b[0m\u001b[0mupdate\u001b[0m\u001b[0;34m(\u001b[0m\u001b[0mkwargs\u001b[0m\u001b[0;34m)\u001b[0m\u001b[0;34m\u001b[0m\u001b[0;34m\u001b[0m\u001b[0m\n\u001b[1;32m   1096\u001b[0m             \u001b[0;32mtry\u001b[0m\u001b[0;34m:\u001b[0m\u001b[0;34m\u001b[0m\u001b[0;34m\u001b[0m\u001b[0m\n\u001b[0;32m-> 1097\u001b[0;31m                 \u001b[0mparams\u001b[0m \u001b[0;34m=\u001b[0m \u001b[0mmodel\u001b[0m\u001b[0;34m.\u001b[0m\u001b[0moptimizing\u001b[0m\u001b[0;34m(\u001b[0m\u001b[0;34m**\u001b[0m\u001b[0margs\u001b[0m\u001b[0;34m)\u001b[0m\u001b[0;34m\u001b[0m\u001b[0;34m\u001b[0m\u001b[0m\n\u001b[0m\u001b[1;32m   1098\u001b[0m             \u001b[0;32mexcept\u001b[0m \u001b[0mRuntimeError\u001b[0m\u001b[0;34m:\u001b[0m\u001b[0;34m\u001b[0m\u001b[0;34m\u001b[0m\u001b[0m\n\u001b[1;32m   1099\u001b[0m                 \u001b[0;32mif\u001b[0m \u001b[0;34m'algorithm'\u001b[0m \u001b[0;32mnot\u001b[0m \u001b[0;32min\u001b[0m \u001b[0margs\u001b[0m\u001b[0;34m:\u001b[0m\u001b[0;34m\u001b[0m\u001b[0;34m\u001b[0m\u001b[0m\n",
            "\u001b[0;32m/usr/local/lib/python3.6/dist-packages/pystan/model.py\u001b[0m in \u001b[0;36moptimizing\u001b[0;34m(self, data, seed, init, sample_file, algorithm, verbose, as_vector, **kwargs)\u001b[0m\n\u001b[1;32m    548\u001b[0m         \u001b[0mstan_args\u001b[0m \u001b[0;34m=\u001b[0m \u001b[0mpystan\u001b[0m\u001b[0;34m.\u001b[0m\u001b[0mmisc\u001b[0m\u001b[0;34m.\u001b[0m\u001b[0m_get_valid_stan_args\u001b[0m\u001b[0;34m(\u001b[0m\u001b[0mstan_args\u001b[0m\u001b[0;34m)\u001b[0m\u001b[0;34m\u001b[0m\u001b[0;34m\u001b[0m\u001b[0m\n\u001b[1;32m    549\u001b[0m \u001b[0;34m\u001b[0m\u001b[0m\n\u001b[0;32m--> 550\u001b[0;31m         \u001b[0mret\u001b[0m\u001b[0;34m,\u001b[0m \u001b[0msample\u001b[0m \u001b[0;34m=\u001b[0m \u001b[0mfit\u001b[0m\u001b[0;34m.\u001b[0m\u001b[0m_call_sampler\u001b[0m\u001b[0;34m(\u001b[0m\u001b[0mstan_args\u001b[0m\u001b[0;34m)\u001b[0m\u001b[0;34m\u001b[0m\u001b[0;34m\u001b[0m\u001b[0m\n\u001b[0m\u001b[1;32m    551\u001b[0m         \u001b[0mpars\u001b[0m \u001b[0;34m=\u001b[0m \u001b[0mpystan\u001b[0m\u001b[0;34m.\u001b[0m\u001b[0mmisc\u001b[0m\u001b[0;34m.\u001b[0m\u001b[0m_par_vector2dict\u001b[0m\u001b[0;34m(\u001b[0m\u001b[0msample\u001b[0m\u001b[0;34m[\u001b[0m\u001b[0;34m'par'\u001b[0m\u001b[0;34m]\u001b[0m\u001b[0;34m,\u001b[0m \u001b[0mm_pars\u001b[0m\u001b[0;34m,\u001b[0m \u001b[0mp_dims\u001b[0m\u001b[0;34m)\u001b[0m\u001b[0;34m\u001b[0m\u001b[0;34m\u001b[0m\u001b[0m\n\u001b[1;32m    552\u001b[0m         \u001b[0;32mif\u001b[0m \u001b[0;32mnot\u001b[0m \u001b[0mas_vector\u001b[0m\u001b[0;34m:\u001b[0m\u001b[0;34m\u001b[0m\u001b[0;34m\u001b[0m\u001b[0m\n",
            "\u001b[0;32mstanfit4anon_model_861b75c6337e237650a61ae58c4385ef_1404815603846050282.pyx\u001b[0m in \u001b[0;36mstanfit4anon_model_861b75c6337e237650a61ae58c4385ef_1404815603846050282.StanFit4Model._call_sampler\u001b[0;34m()\u001b[0m\n",
            "\u001b[0;32mstanfit4anon_model_861b75c6337e237650a61ae58c4385ef_1404815603846050282.pyx\u001b[0m in \u001b[0;36mstanfit4anon_model_861b75c6337e237650a61ae58c4385ef_1404815603846050282._call_sampler\u001b[0;34m()\u001b[0m\n",
            "\u001b[0;32mstanfit4anon_model_861b75c6337e237650a61ae58c4385ef_1404815603846050282.pyx\u001b[0m in \u001b[0;36mstanfit4anon_model_861b75c6337e237650a61ae58c4385ef_1404815603846050282._pystanholder_from_stanholder\u001b[0;34m()\u001b[0m\n",
            "\u001b[0;31mSystemError\u001b[0m: <class 'stanfit4anon_model_861b75c6337e237650a61ae58c4385ef_1404815603846050282.PyStanHolder'> returned a result with an error set"
          ]
        }
      ]
    },
    {
      "cell_type": "code",
      "metadata": {
        "id": "O8KcWcWAsgHc",
        "colab_type": "code",
        "colab": {}
      },
      "source": [
        ""
      ],
      "execution_count": 0,
      "outputs": []
    }
  ]
}